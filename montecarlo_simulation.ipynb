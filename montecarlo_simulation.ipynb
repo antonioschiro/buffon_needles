{
 "cells": [
  {
   "cell_type": "code",
   "execution_count": 169,
   "id": "db1530f0",
   "metadata": {},
   "outputs": [],
   "source": [
    "import numpy as np\n",
    "import matplotlib.pyplot as plt\n",
    "import seaborn as sns\n",
    "from matplotlib.pyplot import figure"
   ]
  },
  {
   "cell_type": "code",
   "execution_count": 88,
   "id": "b683d02d",
   "metadata": {},
   "outputs": [],
   "source": [
    "class LinedSheet:\n",
    "    def __init__(self, spacing: int|float, space_number: int, height: int|float, needle_length: None|float = None):\n",
    "        # Sheet attributes\n",
    "        self.spacing = spacing\n",
    "        self.length = spacing * space_number # sheet length will always be a multiple of \"spacing\" attribute\n",
    "        self.height = height\n",
    "        # Needles attributes\n",
    "        self.needle_length = needle_length if needle_length is not None else spacing\n",
    "        self.needles_positions: None|list[tuple] = None\n",
    "        self.crossings = None\n",
    "\n",
    "    def throw_needle(self) -> list[tuple]:\n",
    "        x1_needle, y1_needle = np.random.uniform(0, self.length), np.random.uniform(0, self.height) # coordinates of one end\n",
    "        alpha_needle = np.random.uniform(0, np.pi/2) # orientation of the thrown needle with respect to the sheet\n",
    "        # Calculating the coordinates of the other end\n",
    "        x2_needle = x1_needle + self.needle_length*np.cos(alpha_needle)\n",
    "        y2_needle = y1_needle + self.needle_length*np.sin(alpha_needle)\n",
    "        # Handle invalids throws\n",
    "        if (x2_needle < 0 or x2_needle > self.length) or (y2_needle < 0 or y2_needle > self.height):\n",
    "            self.throw_needle()\n",
    "        self.needles_positions = [((x1_needle, y1_needle), (x2_needle, y2_needle))]\n",
    "        return self.needles_positions\n",
    "    \n",
    "    def throw_needles(self, throws_number: int) -> list[tuple]:\n",
    "        needles_coords = []\n",
    "        for _ in range(throws_number):\n",
    "            needle_coords = self.throw_needle()\n",
    "            needles_coords.extend(needle_coords)\n",
    "        self.needles_positions = needles_coords\n",
    "        return self.needles_positions\n",
    "    \n",
    "    def count_crossings(self) -> int:\n",
    "        crossing_count = 0\n",
    "        if self.needles_positions is None:\n",
    "            raise ValueError(f\"Attribute {self.needles_positions = }. Call {self.throw_needles.__name__} or {self.throw_needle.__name__} before execute {self.count_crossings.__name__}\")\n",
    "        for pos in self.needles_positions:\n",
    "            end_one, end_two = pos\n",
    "            xs = (end_one[0], end_two[0])\n",
    "            #ys = (end_one[1], end_two[1])\n",
    "            min_x, max_x = xs if xs[0] <= xs[1] else xs[::-1]\n",
    "            for _ in np.arange(self.spacing, self.length, self.spacing):\n",
    "                if min_x <= _ <= max_x:\n",
    "                    crossing_count += 1\n",
    "        self.crossings = crossing_count\n",
    "        return self.crossings\n",
    "    \n",
    "    def calc_result(self) -> dict:\n",
    "        throws = self.needles_positions\n",
    "        result = {\n",
    "            \"crossings\": self.count_crossings(),\n",
    "            \"total_throws\": len(throws),\n",
    "            \"needle_length\": self.needle_length,\n",
    "            \"line_spacing\": self.spacing, \n",
    "        }\n",
    "        # Calculate probability and estimate pi\n",
    "        result[\"probability\"] = result[\"crossings\"]/result[\"total_throws\"]\n",
    "        result[\"estimated_pi\"] = (2*result[\"needle_length\"])/(result[\"probability\"]*result[\"line_spacing\"])\n",
    "        return result\n",
    "        \n",
    "    def display_needles(self):\n",
    "        if self.needles_positions is None:\n",
    "            raise ValueError(f\"Attribute {self.needles_positions = }. Call {self.throw_needles.__name__} or {self.throw_needle.__name__} before execute {self.count_crossings.__name__}\")\n",
    "        needles_coords = self.needles_positions\n",
    "        # Display the thrown needle\n",
    "        fig = figure(figsize=(20, 10)) \n",
    "        ax = fig.add_subplot(111)\n",
    "        ax.set_title(\"Needles throws\")\n",
    "        ax.set_xlim(0, self.length)\n",
    "        ax.set_ylim(0, self.height)\n",
    "        ax.vlines(x = np.arange(self.spacing, self.length, self.spacing), \n",
    "                                ymin= 0,\n",
    "                                ymax = self.height,\n",
    "                                linestyles= \"dashed\",\n",
    "                                colors=\"g\",\n",
    "                                )   \n",
    "        for needle_coord in needles_coords:\n",
    "            end_one, end_two = needle_coord\n",
    "            xs = (end_one[0], end_two[0])\n",
    "            ys = (end_one[1], end_two[1])\n",
    "            ax.plot(xs, ys, linestyle = \"solid\", linewidth = 3, color = '#acbacb',\n",
    "                    marker = \"8\", markerfacecolor = \"#acbacb\", markeredgecolor = \"#acbacb\") # marker settings    \n",
    "        plt.show()"
   ]
  },
  {
   "cell_type": "code",
   "execution_count": null,
   "id": "18d0660f",
   "metadata": {},
   "outputs": [
    {
     "name": "stdout",
     "output_type": "stream",
     "text": [
      "{'crossings': 63311, 'total_throws': 100000, 'needle_length': 5, 'line_spacing': 5, 'probability': 0.63311, 'estimated_pi': 3.1590087030689773}\n"
     ]
    }
   ],
   "source": [
    "pi_sheet = LinedSheet(spacing=5, space_number=200, height=20)\n",
    "pi_sheet.throw_needles(throws_number=100_000)\n",
    "print(pi_sheet.calc_result())"
   ]
  },
  {
   "cell_type": "code",
   "execution_count": null,
   "id": "8d88b129",
   "metadata": {},
   "outputs": [
    {
     "name": "stdout",
     "output_type": "stream",
     "text": [
      "Confidence interval at 95%: 3.174234497267321, 3.20553303906891\n",
      "Estimated pi: 3.1898837681681154\n"
     ]
    }
   ],
   "source": [
    "def confidence_interval_calc(sheet:LinedSheet = pi_sheet, n_samples: int = 30, sample_dim: int = 30, throws_mumber: int = 100_000) -> tuple[float,tuple, np.ndarray]:\n",
    "    sheet = sheet\n",
    "    samples_means = [] # Initialize an empty list to collect the samples means\n",
    "    for n in range(n_samples):\n",
    "        sample_mean = 0\n",
    "        for _ in range(sample_dim):\n",
    "            sheet.throw_needles(throws_number = throws_mumber)\n",
    "            result = sheet.calc_result()\n",
    "            sample_mean += result[\"estimated_pi\"]\n",
    "        sample_mean /= sample_dim\n",
    "        samples_means.append(sample_mean)\n",
    "    \n",
    "    samples_means = np.asarray(samples_means)\n",
    "    # Compute estimators\n",
    "    means_mean = samples_means.mean()\n",
    "    stdev = np.std(a = samples_means, ddof = 1, mean = means_mean) # estimate the standard deviation for the samples means\n",
    "    stdev /= np.sqrt(len(samples_means))\n",
    "    # Calculate confidence range\n",
    "    confidence_interval = (means_mean - 1.96*stdev, means_mean + 1.96*stdev)\n",
    "    print(f\"Confidence interval at 95%: {confidence_interval[0]}, {confidence_interval[1]}\")\n",
    "    print(f\"Estimated pi: {means_mean}\")\n",
    "\n",
    "    return means_mean, confidence_interval, samples_means\n",
    "\n",
    "def plot_means(samples_means: np.ndarray, save_fig: bool = False, figsize: tuple = (8,5)):\n",
    "    fig = figure(figsize = figsize)\n",
    "    ax = fig.add_subplot(111)\n",
    "    ax.grid(visible = True, axis = \"y\", c = \"grey\", ls = \"--\", alpha = 0.8)\n",
    "    ax.set_axisbelow(b = False)\n",
    "    sns.histplot(x = samples_means, bins = \"auto\", kde = True, ax=ax)\n",
    "    ax.set_title(\"Sample means distribution\")\n",
    "    ax.set_ylabel(\"\")\n",
    "    ax.set_xlabel(r\"Means of estimated $\\pi$\")\n",
    "    plt.show()\n",
    "    if save_fig:\n",
    "        fig.savefig(fname = \"means_distribution.png\", format = \"png\")"
   ]
  },
  {
   "cell_type": "code",
   "execution_count": null,
   "id": "6e4b8194",
   "metadata": {},
   "outputs": [
    {
     "data": {
      "image/png": "[encoded data removed]",
      "text/plain": [
       "<Figure size 800x500 with 1 Axes>"
      ]
     },
     "metadata": {},
     "output_type": "display_data"
    }
   ],
   "source": [
    "stats = confidence_interval_calc(throws_mumber= 100)\n",
    "plot_means(samples_means=stats[2])"
   ]
  },
  {
   "cell_type": "markdown",
   "id": "b29865a4",
   "metadata": {},
   "source": [
    "## How the angle affects probability\n",
    "\n",
    "Let's suppose that:\n",
    "1. the sheet is put within a metal coil that produce a magnetic field;\n",
    "2. the needles are made of iron.\n",
    "\n",
    "We'll expect that they will dispose in such a way to follow the field lines of the applied magnetic field.\n",
    "Hence their orientation with respect to the paper won't be random anymore."
   ]
  },
  {
   "cell_type": "markdown",
   "id": "1b248066",
   "metadata": {},
   "source": [
    "Let's create a new class that take in account the new distribution feature."
   ]
  },
  {
   "cell_type": "code",
   "execution_count": 90,
   "id": "ba951ffa",
   "metadata": {},
   "outputs": [],
   "source": [
    "class OrientedLinedSheet(LinedSheet):\n",
    "    def __init__(self, spacing: int|float, space_number: int, height: int|float, needle_length: None|float = None, angle: float = np.pi/4, angle_dispersion: float = np.pi*0.02):\n",
    "        super().__init__(spacing, space_number, height, needle_length)\n",
    "        self.theta = angle  # This angle represents the orientation of the magnetic field with respect to sheet lines\n",
    "        self.angle_dispersion = angle_dispersion\n",
    "        \n",
    "    def throw_needle(self) -> list[tuple]:\n",
    "        x1_needle, y1_needle = np.random.uniform(0, self.length), np.random.uniform(0, self.height) # coordinates of one end\n",
    "        # The angle used for generating random needles coordinates is NOT the orientation angle, but it is linked to the latter by the following equation:\n",
    "        alpha = np.pi/2 - self.theta\n",
    "        angle_range = (alpha - self.angle_dispersion, alpha + self.angle_dispersion) # adding some noise in orientation\n",
    "        alpha_needle = np.random.uniform(*angle_range) # orientation of the thrown needle with respect to the sheet\n",
    "        # Calculating the coordinates of the other end\n",
    "        x2_needle = x1_needle + self.needle_length*np.cos(alpha_needle)\n",
    "        y2_needle = y1_needle + self.needle_length*np.sin(alpha_needle)\n",
    "        # Handle invalids throws\n",
    "        if (x2_needle < 0 or x2_needle > self.length) or (y2_needle < 0 or y2_needle > self.height):\n",
    "            self.throw_needle()\n",
    "        self.needles_positions = [((x1_needle, y1_needle), (x2_needle, y2_needle))]\n",
    "        return self.needles_positions\n",
    "\n",
    "    def calc_result(self) -> dict:\n",
    "        throws = self.needles_positions\n",
    "        result = {\n",
    "            \"crossings\": self.count_crossings(),\n",
    "            \"total_throws\": len(throws),\n",
    "            \"needle_length\": self.needle_length,\n",
    "            \"line_spacing\": self.spacing, \n",
    "        }\n",
    "        # Calculate probability\n",
    "        result[\"probability\"] = result[\"crossings\"]/result[\"total_throws\"]\n",
    "        return result"
   ]
  },
  {
   "cell_type": "markdown",
   "id": "5a40be5d",
   "metadata": {},
   "source": [
    "Let's run four different simulations with four different orientations (angles) and see how probability change."
   ]
  },
  {
   "cell_type": "code",
   "execution_count": null,
   "id": "e3ea36cf",
   "metadata": {},
   "outputs": [
    {
     "name": "stdout",
     "output_type": "stream",
     "text": [
      "Probability (%) of needles crossing lines for angle 0.0: 3.12\n",
      "Probability (%) of needles crossing lines for angle 45.0: 70.26\n",
      "Probability (%) of needles crossing lines for angle 60.0: 86.11\n",
      "Probability (%) of needles crossing lines for angle 90.0: 99.46\n",
      "Probability (%) of needles crossing lines for angle 180.0: 3.07\n",
      "Probability (%) of needles crossing lines for angle 135.0: 70.38\n"
     ]
    }
   ],
   "source": [
    "for theta in (0, np.pi/4, np.pi/3, np.pi/2, 3/4*np.pi, np.pi): # Run simulations for 0°, 45°, 60°, 90°\n",
    "    oriented_sheet = OrientedLinedSheet(spacing=5, space_number=200, height=20, angle= theta)\n",
    "    oriented_sheet.throw_needles(throws_number= 100_000)\n",
    "    result_dict = oriented_sheet.calc_result()\n",
    "    probability = result_dict[\"probability\"]\n",
    "    print(f\"Probability (%) of needles crossing lines for angle {np.round(theta*360/(np.pi*2), 0)}: {np.round(probability*100, 2)}\")\n"
   ]
  },
  {
   "cell_type": "markdown",
   "id": "3084b699",
   "metadata": {},
   "source": [
    "From the results above we can see that the probability increases while $ 0 \\le \\theta \\le \\frac{\\pi}{2}$.  \n",
    "After that, probability start to decrease.\n",
    "Then, we could suppose that the probability is proportional to the sine of the angle:  \n",
    "$ p \\propto sin\\theta$ "
   ]
  },
  {
   "cell_type": "markdown",
   "id": "1bbf72db",
   "metadata": {},
   "source": [
    "### Breaking down the theory"
   ]
  },
  {
   "cell_type": "markdown",
   "id": "b097d5e2",
   "metadata": {},
   "source": [
    "How can we explain these results?  \n",
    "How exactly the angle is affecting probability?  \n",
    "Let's start from the theory of the original experiment."
   ]
  },
  {
   "cell_type": "markdown",
   "id": "db4570b0",
   "metadata": {},
   "source": [
    "### Original Buffon needles experiment\n",
    "Let $x$ be the distance between the center of the needle and the line  \n",
    "Let $\\theta$ be the angle between the needle and the line  \n",
    "Let $t$ be the distance among each pair of consecutive lines  \n",
    "\n",
    "Probability density of x between 0 and t/2:  \n",
    "\n",
    "$\\frac{2}{t}\\,dx$  \n",
    "\n",
    "Probability density of angle between 0 and $\\frac{\\pi}{2}\\,$:  \n",
    "\n",
    "$\\frac{2}{\\pi}\\,d\\theta$\n",
    "\n",
    "The total probability density is:  \n",
    "\n",
    "$f(x, \\theta)dxd\\theta = \\frac{4}{t\\pi}\\,dxd\\theta$\n",
    "\n",
    "The needles cross a line if this condition is met:  \n",
    "\n",
    "$x \\le \\frac{\\ell}{2}\\,sin\\theta$\n",
    "\n",
    "Hence, the probability can be calculated as follows:  \n",
    "\n",
    "$ p = \\int _{0}^{\\frac {\\pi }{2}}\\int _{0}^{(\\ell /2)\\sin \\theta }{\\frac {4}{t\\pi }}\\,dx\\,d\\theta ={\\frac {2\\ell }{t\\pi }} $  \n",
    "\n",
    "\n",
    "For $\\ell = t$:  \n",
    "\n",
    "$ p = \\frac{2}{\\pi}$"
   ]
  },
  {
   "cell_type": "markdown",
   "id": "a602efc6",
   "metadata": {},
   "source": [
    "### Oriented needles version of Buffon experiment\n",
    "\n",
    "In this case the probability density of x remains the same:  \n",
    "$\\frac{2}{t}\\,dx \\qquad \\textrm{for}\\quad 0\\le x \\le \\frac{t}{2}.$\n",
    "\n",
    "The angle $\\theta$, anyway, will assume one value. Hence, we won't integrate over theta.\n",
    "The total probability density will be:  \n",
    "$f(x)dx = \\frac{2}{t}\\,dx$\n",
    "\n",
    "Eventually, the probability will be calculated as follows:  \n",
    "$ p = \\int_{0}^{\\frac{\\ell}{2}\\, sin\\bar{\\theta}}{\\frac{2}{t}\\,dx} = \\frac{\\ell}{t}\\, sin\\bar{\\theta} \\qquad \\textrm{where } \\bar{\\theta} \\textrm{ is a fixed values.}$\n",
    "\n",
    "Recalling that $\\ell = t$:  \n",
    "$ p = sin\\bar{\\theta}$"
   ]
  },
  {
   "cell_type": "markdown",
   "id": "994303a0",
   "metadata": {},
   "source": [
    "We are now able to calculate probability for this hypothetical scenario.\n",
    "Anyway, it's clear that it's not possible to estimate $\\pi$ from this equation: $ p = sin\\bar{\\theta}.$  \n",
    "What else can we do now?  \n",
    "\n",
    "Idea: we could estimate some other irrationals numbers besides $\\pi$ from sine values of known angles.  \n",
    "Recall that:  \n",
    "* $sin(\\frac{\\pi}{3}\\,) = \\frac{\\sqrt{3}}{2}$\n",
    "* $sin(\\frac{\\pi}{4}\\,) = \\frac{\\sqrt{2}}{2}$\n",
    "\n",
    "So, we're expecting that:  \n",
    "\n",
    "* $\\hat{\\sqrt{3}} = 2p \\qquad \\textrm{for } \\theta = \\frac{\\pi}{3}\\,.$\n",
    "* $\\hat{\\sqrt{2}} = 2p \\qquad \\textrm{for } \\theta = \\frac{\\pi}{3}\\,.$"
   ]
  },
  {
   "cell_type": "code",
   "execution_count": 170,
   "id": "61d225a0",
   "metadata": {},
   "outputs": [
    {
     "name": "stdout",
     "output_type": "stream",
     "text": [
      "Estimation of square root of 2: 1.4065\n",
      "Estimation of square root of 3: 1.7224\n"
     ]
    }
   ],
   "source": [
    "for theta in (np.pi/4, np.pi/3): # Run simulations for 45°, 60° again\n",
    "    oriented_sheet = OrientedLinedSheet(spacing=5, space_number=200, height=20, angle=theta)\n",
    "    oriented_sheet.throw_needles(throws_number= 100_000)\n",
    "    result_dict = oriented_sheet.calc_result()\n",
    "    print(f\"Estimation of square root of {2 if theta == np.pi/4 else 3}: {2*result_dict[\"probability\"]}\")"
   ]
  }
 ],
 "metadata": {
  "kernelspec": {
   "display_name": "venv",
   "language": "python",
   "name": "python3"
  },
  "language_info": {
   "codemirror_mode": {
    "name": "ipython",
    "version": 3
   },
   "file_extension": ".py",
   "mimetype": "text/x-python",
   "name": "python",
   "nbconvert_exporter": "python",
   "pygments_lexer": "ipython3",
   "version": "3.13.3"
  }
 },
 "nbformat": 4,
 "nbformat_minor": 5
}
